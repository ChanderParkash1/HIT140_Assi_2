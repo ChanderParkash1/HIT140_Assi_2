{
 "cells": [
  {
   "cell_type": "markdown",
   "metadata": {},
   "source": [
    "**Importing Libraries**"
   ]
  },
  {
   "cell_type": "code",
   "execution_count": 13,
   "metadata": {},
   "outputs": [],
   "source": [
    "import pandas as pd\n",
    "import statistics\n",
    "import numpy as np"
   ]
  },
  {
   "cell_type": "markdown",
   "metadata": {},
   "source": [
    "**Identify Levels of Measurement for Columns**"
   ]
  },
  {
   "cell_type": "code",
   "execution_count": 15,
   "metadata": {},
   "outputs": [],
   "source": [
    "Nominal_data = [\"Subject_identifier\" , \"PD_indicator\"]\n",
    "Ordinal_data = [\"Jitter_MicroSecond\",\"Jitter_r.a.p\",\"Jitter_ppq5\", \"Jitter_ddp\",\"Shimmer_Db\",\"Shimmer_apq3\" ,\"Shimmer_apq5\", \"Shimmer_apq11\", \"Shimmer_dda\", \"Harmonicity_correlation\", \"Harmonicity_NHR\", \"Harmonicity_HNR\", \"Pitch_median\", \"Pitch_mean\", \"Pitch_std\", \"Pitch_min\", \"Pitch_max\", \"Pulse_number\", \"Pulse_periods\", \"Pulse_meanperiod\", \"Pulse_stdperiod\", \"Voice_fraction_unvoiced_frames\", \"Voice_number_voice_breaks\", \"Voice_degree_voice_breaks\", \"UPDRS\"]\n",
    "Interval_data = []\n",
    "Ratio_data = []\n",
    "Percent_data = [\"Jitter_Percent\", \"Shimmer_Percent\" ]"
   ]
  }
 ],
 "metadata": {
  "kernelspec": {
   "display_name": "Python 3",
   "language": "python",
   "name": "python3"
  },
  "language_info": {
   "codemirror_mode": {
    "name": "ipython",
    "version": 3
   },
   "file_extension": ".py",
   "mimetype": "text/x-python",
   "name": "python",
   "nbconvert_exporter": "python",
   "pygments_lexer": "ipython3",
   "version": "3.11.4"
  },
  "orig_nbformat": 4
 },
 "nbformat": 4,
 "nbformat_minor": 2
}
